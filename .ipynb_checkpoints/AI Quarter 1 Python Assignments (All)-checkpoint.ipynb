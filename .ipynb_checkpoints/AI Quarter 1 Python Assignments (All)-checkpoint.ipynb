{
 "cells": [
  {
   "cell_type": "markdown",
   "metadata": {},
   "source": [
    "# 1. Area of a circle"
   ]
  },
  {
   "cell_type": "code",
   "execution_count": 1,
   "metadata": {},
   "outputs": [
    {
     "name": "stdout",
     "output_type": "stream",
     "text": [
      "Please enter the radius: 0.5\n",
      "Area of cirle with radius 0.5 is 0.7857142857142857\n"
     ]
    }
   ],
   "source": [
    "pi = (22/7)\n",
    "r = float(input(\"Please enter the radius: \"))\n",
    "area = pi*(r**2)\n",
    "print (\"Area of cirle with radius\", r, \"is\", area)"
   ]
  },
  {
   "cell_type": "markdown",
   "metadata": {},
   "source": [
    "# 2. Check Number either positive, negative or zero."
   ]
  },
  {
   "cell_type": "code",
   "execution_count": 2,
   "metadata": {},
   "outputs": [
    {
     "name": "stdout",
     "output_type": "stream",
     "text": [
      "Enter number to know its rationality: -1\n",
      "Negative number entered\n"
     ]
    }
   ],
   "source": [
    "N = int(input(\"Enter number to know its rationality: \"))\n",
    "if N > 0:\n",
    "    print(\"Positive number entered\")\n",
    "elif N < 0:\n",
    "    print(\"Negative number entered\")\n",
    "elif N == 0:\n",
    "    print(\"Zero entered\")"
   ]
  },
  {
   "cell_type": "code",
   "execution_count": 3,
   "metadata": {},
   "outputs": [
    {
     "name": "stdout",
     "output_type": "stream",
     "text": [
      "Enter number to know its rationality: 3\n",
      "Positive number entered\n"
     ]
    }
   ],
   "source": [
    "N = int(input(\"Enter number to know its rationality: \"))\n",
    "if N > 0:\n",
    "    print(\"Positive number entered\")\n",
    "elif N < 0:\n",
    "    print(\"Negative number entered\")\n",
    "elif N == 0:\n",
    "    print(\"Zero entered\")"
   ]
  },
  {
   "cell_type": "code",
   "execution_count": 4,
   "metadata": {},
   "outputs": [
    {
     "name": "stdout",
     "output_type": "stream",
     "text": [
      "Enter number to know its rationality: 0\n",
      "Zero entered\n"
     ]
    }
   ],
   "source": [
    "N = int(input(\"Enter number to know its rationality: \"))\n",
    "if N > 0:\n",
    "    print(\"Positive number entered\")\n",
    "elif N < 0:\n",
    "    print(\"Negative number entered\")\n",
    "elif N == 0:\n",
    "    print(\"Zero entered\")"
   ]
  },
  {
   "cell_type": "markdown",
   "metadata": {},
   "source": [
    "# 3. Divisibility check of two numbers"
   ]
  },
  {
   "cell_type": "code",
   "execution_count": 5,
   "metadata": {},
   "outputs": [
    {
     "name": "stdout",
     "output_type": "stream",
     "text": [
      "Enter numerator: 4\n",
      "Enter denominator: 2\n",
      "Number 4 is completely divisible by 2\n"
     ]
    }
   ],
   "source": [
    "N = int(input(\"Enter numerator: \"))\n",
    "D = int(input(\"Enter denominator: \"))\n",
    "Rem = N % D\n",
    "if Rem == 0:\n",
    "    print(\"Number\", N, \"is completely divisible by\", D)\n",
    "else:\n",
    "    print(\"Number\", N, \"is not completely divisible by\", D)"
   ]
  },
  {
   "cell_type": "code",
   "execution_count": 6,
   "metadata": {},
   "outputs": [
    {
     "name": "stdout",
     "output_type": "stream",
     "text": [
      "Enter numerator: 7\n",
      "Enter denominator: 4\n",
      "Number 7 is not completely divisible by 4\n"
     ]
    }
   ],
   "source": [
    "N = int(input(\"Enter numerator: \"))\n",
    "D = int(input(\"Enter denominator: \"))\n",
    "Rem = N % D\n",
    "if Rem == 0:\n",
    "    print(\"Number\", N, \"is completely divisible by\", D)\n",
    "else:\n",
    "    print(\"Number\", N, \"is not completely divisible by\", D)"
   ]
  },
  {
   "cell_type": "markdown",
   "metadata": {},
   "source": [
    "# 4.Days calculator"
   ]
  },
  {
   "cell_type": "code",
   "execution_count": 7,
   "metadata": {},
   "outputs": [
    {
     "name": "stdout",
     "output_type": "stream",
     "text": [
      "Enter a date in (dd/mm/yy) format: 12/12/2018\n",
      "Enter a date in (dd/mm/yy) format: 16/12/2018\n",
      "There are 4 days in between 12/12/2018 and 16/12/2018\n"
     ]
    }
   ],
   "source": [
    "from datetime import datetime\n",
    "date_format = \"%d/%m/%Y\"\n",
    "e = input(\"Enter a date in (dd/mm/yy) format: \")\n",
    "f = input(\"Enter a date in (dd/mm/yy) format: \")\n",
    "a = datetime.strptime( e , date_format)\n",
    "b = datetime.strptime( f , date_format)\n",
    "delta = b - a\n",
    "print (\"There are\", delta.days, \"days in between\", e , \"and\" , f)"
   ]
  },
  {
   "cell_type": "markdown",
   "metadata": {},
   "source": [
    "# 5. Volume of Sphere"
   ]
  },
  {
   "cell_type": "code",
   "execution_count": 8,
   "metadata": {},
   "outputs": [
    {
     "name": "stdout",
     "output_type": "stream",
     "text": [
      "Please enter the radius: 1\n",
      "Volume of the Sphere with radius 1 is 4.19047619047619\n"
     ]
    }
   ],
   "source": [
    "pi = 22/7\n",
    "r = int(input(\"Please enter the radius: \"))\n",
    "V = (4/3)*pi*(r**3)\n",
    "print(\"Volume of the Sphere with radius\", r, \"is\", V)"
   ]
  },
  {
   "cell_type": "markdown",
   "metadata": {},
   "source": [
    "# 6. Copy string n times "
   ]
  },
  {
   "cell_type": "code",
   "execution_count": 9,
   "metadata": {},
   "outputs": [
    {
     "name": "stdout",
     "output_type": "stream",
     "text": [
      "Enter string: Hi\n",
      "How many copies of string do you need: 4\n",
      "4 copies of Hi are HiHiHiHi\n"
     ]
    }
   ],
   "source": [
    "S = str(input(\"Enter string: \"))\n",
    "n = int(input(\"How many copies of string do you need: \"))\n",
    "Result = S*n\n",
    "print(n, \"copies of\", S, \"are\", Result)"
   ]
  },
  {
   "cell_type": "markdown",
   "metadata": {},
   "source": [
    "# 7. Check if number is Even or Odd"
   ]
  },
  {
   "cell_type": "code",
   "execution_count": 10,
   "metadata": {},
   "outputs": [
    {
     "name": "stdout",
     "output_type": "stream",
     "text": [
      "Enter number: 4\n",
      "4 is even\n"
     ]
    }
   ],
   "source": [
    "N = int(input(\"Enter number: \"))\n",
    "Rem = N % 2\n",
    "if Rem == 0:\n",
    "    print(N, \"is even\")\n",
    "else:\n",
    "    print(N, \"is odd\")"
   ]
  },
  {
   "cell_type": "code",
   "execution_count": 11,
   "metadata": {},
   "outputs": [
    {
     "name": "stdout",
     "output_type": "stream",
     "text": [
      "Enter number: 9\n",
      "9 is odd\n"
     ]
    }
   ],
   "source": [
    "N = int(input(\"Enter number: \"))\n",
    "Rem = N % 2\n",
    "if Rem == 0:\n",
    "    print(N, \"is even\")\n",
    "else:\n",
    "    print(N, \"is odd\")"
   ]
  },
  {
   "cell_type": "markdown",
   "metadata": {},
   "source": [
    "# 8. Vowel tester"
   ]
  },
  {
   "cell_type": "code",
   "execution_count": 12,
   "metadata": {},
   "outputs": [
    {
     "name": "stdout",
     "output_type": "stream",
     "text": [
      "Enter any character: A\n",
      "Letter A is vowel\n"
     ]
    }
   ],
   "source": [
    "C = str(input(\"Enter any character: \"))\n",
    "if C == 'a' or C == 'A' or C == 'e' or C == 'E' or C == 'i' or C == 'I' or C == 'o' or C == 'O' or C == 'u' or C == 'U':\n",
    "    print (\"Letter\", C, \"is vowel\")\n",
    "else:\n",
    "    print (\"Letter\", C, \"is not vowel\")"
   ]
  },
  {
   "cell_type": "code",
   "execution_count": 13,
   "metadata": {},
   "outputs": [
    {
     "name": "stdout",
     "output_type": "stream",
     "text": [
      "Enter any character: e\n",
      "Letter e is vowel\n"
     ]
    }
   ],
   "source": [
    "C = str(input(\"Enter any character: \"))\n",
    "if C == 'a' or C == 'A' or C == 'e' or C == 'E' or C == 'i' or C == 'I' or C == 'o' or C == 'O' or C == 'u' or C == 'U':\n",
    "    print (\"Letter\", C, \"is vowel\")\n",
    "else:\n",
    "    print (\"Letter\", C, \"is not vowel\")"
   ]
  },
  {
   "cell_type": "code",
   "execution_count": 14,
   "metadata": {},
   "outputs": [
    {
     "name": "stdout",
     "output_type": "stream",
     "text": [
      "Enter any character: N\n",
      "Letter N is not vowel\n"
     ]
    }
   ],
   "source": [
    "C = str(input(\"Enter any character: \"))\n",
    "if C == 'a' or C == 'A' or C == 'e' or C == 'E' or C == 'i' or C == 'I' or C == 'o' or C == 'O' or C == 'u' or C == 'U':\n",
    "    print (\"Letter\", C, \"is vowel\")\n",
    "else:\n",
    "    print (\"Letter\", C, \"is not vowel\")"
   ]
  },
  {
   "cell_type": "markdown",
   "metadata": {},
   "source": [
    "# 9. Triangle area"
   ]
  },
  {
   "cell_type": "code",
   "execution_count": 15,
   "metadata": {},
   "outputs": [
    {
     "name": "stdout",
     "output_type": "stream",
     "text": [
      "Enter Height: 4\n",
      "Enter Base: 4\n",
      "Area of triangle with Height 4 and Base 4 is 8.0\n"
     ]
    }
   ],
   "source": [
    "H = int(input(\"Enter Height: \"))\n",
    "B = int(input(\"Enter Base: \"))\n",
    "Area = 0.5*B*H\n",
    "print(\"Area of triangle with Height\", H, \"and Base\", B, \"is\", Area)"
   ]
  },
  {
   "cell_type": "markdown",
   "metadata": {},
   "source": [
    "# 10. Calculate interest"
   ]
  },
  {
   "cell_type": "code",
   "execution_count": 16,
   "metadata": {},
   "outputs": [
    {
     "name": "stdout",
     "output_type": "stream",
     "text": [
      "Please enter Principal amount: 10000\n",
      "Please enter rate of interest in %: 0.1\n",
      "Please enter number of years for investment: 5\n",
      "After 5 years, your Principal ammount, 10000 over an interest rate of 0.1 % will be 16105.100000000006\n"
     ]
    }
   ],
   "source": [
    "P = int(input(\"Please enter Principal amount: \"))\n",
    "R = float(input(\"Please enter rate of interest in %: \"))\n",
    "T = int(input(\"Please enter number of years for investment: \"))\n",
    "I = P*((1+R)**T)\n",
    "print (\"After\", T, \"years, your Principal ammount,\", P, \"over an interest rate of\", R,\"% will be\", I)"
   ]
  },
  {
   "cell_type": "markdown",
   "metadata": {},
   "source": [
    "# 11. Euclidean Distance"
   ]
  },
  {
   "cell_type": "code",
   "execution_count": 17,
   "metadata": {},
   "outputs": [
    {
     "name": "stdout",
     "output_type": "stream",
     "text": [
      "Please input co-ordinate for x1: 2\n",
      "Please input co-ordinate for x2: 4\n",
      "Please input co-ordinate for y1: 4\n",
      "Please input co-ordinate for y2: 4\n",
      "Distance between points( 2 , 4 ) and ( 4 , 4 ) is 2.0\n"
     ]
    }
   ],
   "source": [
    "x1 = int(input(\"Please input co-ordinate for x1: \"))\n",
    "x2 = int(input(\"Please input co-ordinate for x2: \"))\n",
    "y1 = int(input(\"Please input co-ordinate for y1: \"))\n",
    "y2 = int(input(\"Please input co-ordinate for y2: \"))\n",
    "x = x2 - x1\n",
    "y = y2 - y1\n",
    "D = ((x**2)+(y**2))**(1/2)\n",
    "print (\"Distance between points(\", x1,\",\", y1,\") and (\", x2, \",\", y2,\") is\", D)"
   ]
  },
  {
   "cell_type": "markdown",
   "metadata": {},
   "source": [
    "# 12. Feet to cm"
   ]
  },
  {
   "cell_type": "code",
   "execution_count": 18,
   "metadata": {},
   "outputs": [
    {
     "name": "stdout",
     "output_type": "stream",
     "text": [
      "Enter height in feet: 5\n",
      "There are 152.4 cm in 5.0 ft.\n"
     ]
    }
   ],
   "source": [
    "ft = 30.48 #ratio of 1feet : 30,48 cm\n",
    "h = float(input(\"Enter height in feet: \"))\n",
    "cm = h * ft\n",
    "print(\"There are\", cm,\"cm in\", h, \"ft.\")"
   ]
  },
  {
   "cell_type": "markdown",
   "metadata": {},
   "source": [
    "# 13. BMI calculator"
   ]
  },
  {
   "cell_type": "code",
   "execution_count": 19,
   "metadata": {},
   "outputs": [
    {
     "name": "stdout",
     "output_type": "stream",
     "text": [
      "Enter height in cm: 180\n",
      "Enter weight in kg: 75\n",
      "Your BMI is 23.148148148148145\n"
     ]
    }
   ],
   "source": [
    "cm = int(input(\"Enter height in cm: \"))\n",
    "w = int(input(\"Enter weight in kg: \"))\n",
    "m = cm/100\n",
    "BMI = w/(m**2)\n",
    "print(\"Your BMI is\", BMI)"
   ]
  },
  {
   "cell_type": "markdown",
   "metadata": {},
   "source": [
    "# 14. Sum of n positive integers"
   ]
  },
  {
   "cell_type": "code",
   "execution_count": 20,
   "metadata": {},
   "outputs": [
    {
     "name": "stdout",
     "output_type": "stream",
     "text": [
      "Enter a positive integer: 5\n",
      "The sum of the first 5 positive integers is 15.0\n"
     ]
    }
   ],
   "source": [
    "N = int(input(\"Enter a positive integer: \"))\n",
    "Sum = N * (N+1) / 2\n",
    "print(\"The sum of the first\", N, \"positive integers is\", Sum)"
   ]
  },
  {
   "cell_type": "markdown",
   "metadata": {},
   "source": [
    "# 15. Digits sum in a number"
   ]
  },
  {
   "cell_type": "code",
   "execution_count": 21,
   "metadata": {},
   "outputs": [
    {
     "name": "stdout",
     "output_type": "stream",
     "text": [
      "Enter a number: 15\n",
      "Sum of 1 + 5 is 6\n"
     ]
    }
   ],
   "source": [
    "num = str(input(\"Enter a number: \"))\n",
    "a = 0 \n",
    "for b in num:\n",
    "    a += int(b)\n",
    "print(\"Sum of\", ' + '.join(map(str,num)) ,\"is\", a)"
   ]
  },
  {
   "cell_type": "code",
   "execution_count": 22,
   "metadata": {},
   "outputs": [
    {
     "name": "stdout",
     "output_type": "stream",
     "text": [
      "Enter a number: 1234\n",
      "Sum of 1 + 2 + 3 + 4 is 10\n"
     ]
    }
   ],
   "source": [
    "num = str(input(\"Enter a number: \"))\n",
    "a = 0 \n",
    "for b in num:\n",
    "    a += int(b)\n",
    "print(\"Sum of\", ' + '.join(map(str,num)) ,\"is\", a)"
   ]
  },
  {
   "cell_type": "markdown",
   "metadata": {},
   "source": [
    "# 16. Decimal to binary "
   ]
  },
  {
   "cell_type": "code",
   "execution_count": 23,
   "metadata": {},
   "outputs": [
    {
     "name": "stdout",
     "output_type": "stream",
     "text": [
      "Enter any decimal number: 5\n",
      "Equivalent Binary Number is  0b101\n"
     ]
    }
   ],
   "source": [
    "n = int(input(\"Enter any decimal number: \"))\n",
    "print(\"Equivalent Binary Number is \", bin(n))"
   ]
  },
  {
   "cell_type": "code",
   "execution_count": 24,
   "metadata": {},
   "outputs": [
    {
     "name": "stdout",
     "output_type": "stream",
     "text": [
      "Enter any decimal number: 32\n",
      "Equivalent Binary Number is  0b100000\n"
     ]
    }
   ],
   "source": [
    "n = int(input(\"Enter any decimal number: \"))\n",
    "print(\"Equivalent Binary Number is \", bin(n))"
   ]
  },
  {
   "cell_type": "markdown",
   "metadata": {},
   "source": [
    "# 17. Binary to Decimal"
   ]
  },
  {
   "cell_type": "code",
   "execution_count": 25,
   "metadata": {},
   "outputs": [
    {
     "name": "stdout",
     "output_type": "stream",
     "text": [
      "Enter number in Binary Format: 1101\n",
      "1101 in Decimal = 13\n"
     ]
    }
   ],
   "source": [
    "binary = input(\"Enter number in Binary Format: \")\n",
    "decimal = int(binary, 2)\n",
    "print(binary, \"in Decimal =\", decimal)"
   ]
  },
  {
   "cell_type": "code",
   "execution_count": 26,
   "metadata": {},
   "outputs": [
    {
     "name": "stdout",
     "output_type": "stream",
     "text": [
      "Enter number in Binary Format: 1001\n",
      "1001 in Decimal = 9\n"
     ]
    }
   ],
   "source": [
    "binary = input(\"Enter number in Binary Format: \")\n",
    "decimal = int(binary, 2)\n",
    "print(binary, \"in Decimal =\", decimal)"
   ]
  },
  {
   "cell_type": "markdown",
   "metadata": {},
   "source": [
    "# 18. Vowels and Consonants counter"
   ]
  },
  {
   "cell_type": "code",
   "execution_count": 27,
   "metadata": {},
   "outputs": [
    {
     "name": "stdout",
     "output_type": "stream",
     "text": [
      "Enter text: QuickBrownFoxJumpsovertheDog\n",
      "Vowels : 9\n",
      "Consonants : 19\n"
     ]
    }
   ],
   "source": [
    "x = str(input(\"Enter text: \"))\n",
    "vowels = set('aeiou')\n",
    "consonants = sum(i not in vowels for i in x)\n",
    "vowels = sum(i in vowels for i in x)\n",
    "print(\"Vowels : \"+str(vowels))\n",
    "print(\"Consonants : \"+str(consonants))"
   ]
  },
  {
   "cell_type": "markdown",
   "metadata": {},
   "source": [
    "# 19. Palindrome Tester"
   ]
  },
  {
   "cell_type": "code",
   "execution_count": 28,
   "metadata": {},
   "outputs": [
    {
     "name": "stdout",
     "output_type": "stream",
     "text": [
      "Enter text: AHA\n",
      "It is palindrome\n"
     ]
    }
   ],
   "source": [
    "A = input(\"Enter text: \")\n",
    "A = A.casefold()\n",
    "rev_str = reversed(A)\n",
    "\n",
    "if list(A) == list(rev_str):\n",
    "   print(\"It is palindrome\")\n",
    "else:\n",
    "   print(\"It is not palindrome\")"
   ]
  },
  {
   "cell_type": "code",
   "execution_count": 29,
   "metadata": {},
   "outputs": [
    {
     "name": "stdout",
     "output_type": "stream",
     "text": [
      "Enter text: Hello\n",
      "It is not palindrome\n"
     ]
    }
   ],
   "source": [
    "A = input(\"Enter text: \")\n",
    "A = A.casefold()\n",
    "rev_str = reversed(A)\n",
    "\n",
    "if list(A) == list(rev_str):\n",
    "   print(\"It is palindrome\")\n",
    "else:\n",
    "   print(\"It is not palindrome\")"
   ]
  },
  {
   "cell_type": "markdown",
   "metadata": {},
   "source": [
    "# 20. Count Alphabets, Numbers and Special Characters"
   ]
  },
  {
   "cell_type": "code",
   "execution_count": 31,
   "metadata": {},
   "outputs": [
    {
     "name": "stdout",
     "output_type": "stream",
     "text": [
      "Please Enter your Own String : Python 3.2\n",
      " Alphabets in this String :  6\n",
      " Digits in this String :  2\n",
      " Special Characters :  2\n"
     ]
    }
   ],
   "source": [
    "string = input(\"Please Enter your Own String : \")\n",
    "alphabets = digits = special = 0\n",
    "space = ''\n",
    "for i in range(len(string)):\n",
    "    if(string[i].isalpha()):\n",
    "        alphabets = alphabets + 1\n",
    "    elif(string[i].isdigit()):\n",
    "        digits = digits + 1\n",
    "    else:\n",
    "        special = special + 1\n",
    "        \n",
    "print(\" Alphabets in this String : \", alphabets)\n",
    "print(\" Digits in this String : \", digits)\n",
    "print(\" Special Characters : \", special)"
   ]
  },
  {
   "cell_type": "markdown",
   "metadata": {},
   "source": [
    "# 21. * Pattern"
   ]
  },
  {
   "cell_type": "code",
   "execution_count": 32,
   "metadata": {},
   "outputs": [
    {
     "name": "stdout",
     "output_type": "stream",
     "text": [
      "Enter max star to be display on single line: 5\n",
      "* \n",
      "* * \n",
      "* * * \n",
      "* * * * \n",
      "* * * * * \n",
      "* * * * \n",
      "* * * \n",
      "* * \n",
      "* \n",
      "\n"
     ]
    }
   ],
   "source": [
    "rows = input(\"Enter max star to be display on single line: \")\n",
    "rows = int (rows)\n",
    "for i in range (0, rows):\n",
    "    for j in range(0, i + 1):\n",
    "        print(\"*\", end=' ')\n",
    "    print(\"\\r\")\n",
    "\n",
    "for i in range (rows, 0, -1):\n",
    "    for j in range(0, i -1):\n",
    "        print(\"*\", end=' ')\n",
    "    print(\"\\r\")"
   ]
  },
  {
   "cell_type": "markdown",
   "metadata": {},
   "source": [
    "# 22. Number pattern"
   ]
  },
  {
   "cell_type": "code",
   "execution_count": 33,
   "metadata": {},
   "outputs": [
    {
     "name": "stdout",
     "output_type": "stream",
     "text": [
      "Enter max star to be display on single line: 5\n",
      "1 \n",
      "1 2 \n",
      "1 2 3 \n",
      "1 2 3 4 \n",
      "1 2 3 4 5 \n",
      "1 2 3 4 \n",
      "1 2 3 \n",
      "1 2 \n",
      "1 \n",
      "\n"
     ]
    }
   ],
   "source": [
    "rows = input(\"Enter max star to be display on single line: \")\n",
    "rows = int (rows)\n",
    "for i in range (0, rows):\n",
    "    for j in range(0, i + 1):\n",
    "        print(j+1, end=' ')\n",
    "    print(\"\\r\")\n",
    "\n",
    "for i in range (rows, 0, -1):\n",
    "    for j in range(0, i -1):\n",
    "        print(j+1, end=' ')\n",
    "    print(\"\\r\")"
   ]
  },
  {
   "cell_type": "markdown",
   "metadata": {},
   "source": [
    "# 23. Printing number string same times as the number"
   ]
  },
  {
   "cell_type": "code",
   "execution_count": 34,
   "metadata": {},
   "outputs": [
    {
     "name": "stdout",
     "output_type": "stream",
     "text": [
      "\n",
      "1\n",
      "22\n",
      "333\n",
      "4444\n",
      "55555\n",
      "666666\n",
      "7777777\n",
      "88888888\n",
      "999999999\n"
     ]
    }
   ],
   "source": [
    "for i in range(10):\n",
    "    print(str(i) * i)"
   ]
  },
  {
   "cell_type": "code",
   "execution_count": null,
   "metadata": {},
   "outputs": [],
   "source": []
  }
 ],
 "metadata": {
  "kernelspec": {
   "display_name": "Python 3",
   "language": "python",
   "name": "python3"
  },
  "language_info": {
   "codemirror_mode": {
    "name": "ipython",
    "version": 3
   },
   "file_extension": ".py",
   "mimetype": "text/x-python",
   "name": "python",
   "nbconvert_exporter": "python",
   "pygments_lexer": "ipython3",
   "version": "3.7.0"
  }
 },
 "nbformat": 4,
 "nbformat_minor": 2
}
